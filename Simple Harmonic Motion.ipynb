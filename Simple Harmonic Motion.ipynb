{
 "cells": [
  {
   "cell_type": "code",
   "execution_count": 2,
   "metadata": {
    "collapsed": true
   },
   "outputs": [],
   "source": [
    "from IPython.display import HTML\n",
    "from sympy import Symbol\n",
    "from sympy import init_printing\n",
    "from sympy import latex\n",
    "from sympy import Function, solve, dsolve, Eq, Derivative, sin, cos, diff\n",
    "from sympy.abc import omega\n",
    "import matplotlib.pyplot as plt, numpy as np\n",
    "% matplotlib inline"
   ]
  },
  {
   "cell_type": "markdown",
   "metadata": {},
   "source": [
    "# Simple Harmonic Motion"
   ]
  },
  {
   "cell_type": "markdown",
   "metadata": {},
   "source": [
    "## Why do we care?\n",
    "\n",
    "The Tacoma Narrows Bridge, built in 1940, used to be known as \"Galloping Gertie\" due to the distinct up-and-down roller-coaster-like motion it exhibited.\n",
    "\n",
    "Just four months after the structure was built, it collapsed."
   ]
  },
  {
   "cell_type": "code",
   "execution_count": 3,
   "metadata": {},
   "outputs": [
    {
     "data": {
      "text/html": [
       "<iframe width=\"560\" height=\"315\" src=\"https://www.youtube.com/embed/XggxeuFDaDU\" frameborder=\"0\" allow=\"autoplay; encrypted-media\" allowfullscreen></iframe>"
      ],
      "text/plain": [
       "<IPython.core.display.HTML object>"
      ]
     },
     "execution_count": 3,
     "metadata": {},
     "output_type": "execute_result"
    }
   ],
   "source": [
    "HTML('<iframe width=\"560\" height=\"315\" src=\"https://www.youtube.com/embed/XggxeuFDaDU\" frameborder=\"0\" allow=\"autoplay; encrypted-media\" allowfullscreen></iframe>')"
   ]
  },
  {
   "cell_type": "markdown",
   "metadata": {},
   "source": [
    "To understand the collapse of the bridge, we have to be able to model it.  It turns out the first step towards modeling it lies in a simple example which should be familiar to you:"
   ]
  },
  {
   "cell_type": "code",
   "execution_count": 4,
   "metadata": {},
   "outputs": [
    {
     "data": {
      "text/html": [
       "<img src=\"https://math.okstate.edu/people/wrightd/images/1spring1mass.gif\">"
      ],
      "text/plain": [
       "<IPython.core.display.HTML object>"
      ]
     },
     "execution_count": 4,
     "metadata": {},
     "output_type": "execute_result"
    }
   ],
   "source": [
    "HTML('<img src=\"https://math.okstate.edu/people/wrightd/images/1spring1mass.gif\">')"
   ]
  },
  {
   "cell_type": "markdown",
   "metadata": {},
   "source": [
    "## What does the Free Body Diagram Look Like?"
   ]
  },
  {
   "cell_type": "code",
   "execution_count": null,
   "metadata": {
    "collapsed": true
   },
   "outputs": [],
   "source": []
  },
  {
   "cell_type": "markdown",
   "metadata": {},
   "source": [
    "## Reminder: Hooke's Law"
   ]
  },
  {
   "cell_type": "markdown",
   "metadata": {},
   "source": [
    "# $F = -kx$"
   ]
  },
  {
   "cell_type": "code",
   "execution_count": 5,
   "metadata": {
    "collapsed": true
   },
   "outputs": [],
   "source": [
    "k = Symbol('k') #define the spring constant\n",
    "x = Function('x') #define the displacement, which will be a function of time"
   ]
  },
  {
   "cell_type": "markdown",
   "metadata": {},
   "source": [
    "## Add Newton's Second Law"
   ]
  },
  {
   "cell_type": "markdown",
   "metadata": {},
   "source": [
    "# $ F = m a = m \\frac{d^2 x}{dt^2}$"
   ]
  },
  {
   "cell_type": "code",
   "execution_count": 82,
   "metadata": {
    "collapsed": true
   },
   "outputs": [],
   "source": [
    "m = Symbol('m') #define the mass\n",
    "t = Symbol('t') #define the independent variable\n",
    "x = Function('x') #define the displacement function"
   ]
  },
  {
   "cell_type": "markdown",
   "metadata": {},
   "source": [
    "## Put them together\n",
    "# $ \\frac{d^2x(t)}{dt^2} +\\frac{k}{m}x(t) = 0 $"
   ]
  },
  {
   "cell_type": "markdown",
   "metadata": {},
   "source": [
    "## What do we expect the solution to be?"
   ]
  },
  {
   "cell_type": "markdown",
   "metadata": {},
   "source": [
    "### 1) With your neighbor, try to sketch what you think x(t) will look like\n",
    "### 2) Can you suggest a simple function of this form?"
   ]
  },
  {
   "cell_type": "code",
   "execution_count": 6,
   "metadata": {},
   "outputs": [
    {
     "data": {
      "text/html": [
       "<img src=\"https://thumbs.gfycat.com/ThoseImpressiveHornshark-max-1mb.gif\">"
      ],
      "text/plain": [
       "<IPython.core.display.HTML object>"
      ]
     },
     "execution_count": 6,
     "metadata": {},
     "output_type": "execute_result"
    }
   ],
   "source": [
    "HTML('<img src=\"https://thumbs.gfycat.com/ThoseImpressiveHornshark-max-1mb.gif\">')"
   ]
  },
  {
   "cell_type": "code",
   "execution_count": 11,
   "metadata": {},
   "outputs": [],
   "source": [
    "A = Symbol('A') #what is this?\n",
    "from sympy.abc import omega #different way of defining a symbol\n",
    "from sympy.abc import phi\n",
    "from sympy.abc import t\n",
    "x = A*cos(omega*t + phi)"
   ]
  },
  {
   "cell_type": "markdown",
   "metadata": {},
   "source": [
    "# $x(t) = A \\cos(\\omega t + \\phi)$"
   ]
  },
  {
   "cell_type": "markdown",
   "metadata": {},
   "source": [
    "## Let's check!"
   ]
  },
  {
   "cell_type": "code",
   "execution_count": 12,
   "metadata": {},
   "outputs": [
    {
     "data": {
      "text/plain": [
       "-A*omega**2*cos(omega*t + phi)"
      ]
     },
     "execution_count": 12,
     "metadata": {},
     "output_type": "execute_result"
    }
   ],
   "source": [
    "diff(x,t,2) #differentiate our guess twice"
   ]
  },
  {
   "cell_type": "markdown",
   "metadata": {},
   "source": [
    "## Compare both sides of the equation\n",
    "# $-A \\omega ^2 \\cos(\\omega t + \\phi)  = -\\frac{k}{m} A \\cos(\\omega t + \\phi) $\n",
    "## True as long as $\\omega = \\sqrt{\\frac{k}{m}} $"
   ]
  },
  {
   "cell_type": "markdown",
   "metadata": {},
   "source": [
    "## All right, so what do these variables mean?"
   ]
  },
  {
   "cell_type": "code",
   "execution_count": 13,
   "metadata": {},
   "outputs": [
    {
     "data": {
      "application/vnd.jupyter.widget-view+json": {
       "model_id": "4b36eaa0cc604a6f8701e54033a8ca7a",
       "version_major": 2,
       "version_minor": 0
      },
      "text/plain": [
       "A Jupyter Widget"
      ]
     },
     "metadata": {},
     "output_type": "display_data"
    },
    {
     "data": {
      "text/plain": [
       "<function __main__.pltX>"
      ]
     },
     "execution_count": 13,
     "metadata": {},
     "output_type": "execute_result"
    }
   ],
   "source": [
    "from ipywidgets import *\n",
    "def pltX(A,omega,phi): \n",
    "    #function that plots our displacement as a function of the three variables of interest\n",
    "    t = np.arange(0,10,0.1)\n",
    "    x = A * np.cos(omega*t + phi)\n",
    "    plt.plot(t,x)\n",
    "    plt.ylim((-10,10))\n",
    "    plt.show()\n",
    "interact(pltX,A=(1,10,1),omega=(0.1,10,0.5),phi=(0,2*np.pi,0.25))"
   ]
  },
  {
   "cell_type": "markdown",
   "metadata": {},
   "source": [
    "## But what about the Tacoma Narrows Bridge?"
   ]
  },
  {
   "cell_type": "markdown",
   "metadata": {},
   "source": [
    "Well, it turns out I cheated a little.  In the beginning of the talk, I describe how it initially was known as \"Galloping Gertie\" due to the up-and-down roller coaster undulations and implicitly linked that to its eventual collapse, but these are actually two distinct effects."
   ]
  },
  {
   "cell_type": "markdown",
   "metadata": {},
   "source": [
    "## Normal modes: a preview\n",
    "\n",
    "A simple harmonic oscillator can take on different \"normal modes\" or oscillations at its natural frequency:"
   ]
  },
  {
   "cell_type": "code",
   "execution_count": 14,
   "metadata": {},
   "outputs": [
    {
     "data": {
      "application/vnd.jupyter.widget-view+json": {
       "model_id": "572214a2ce5b49548f5b216975a03aa8",
       "version_major": 2,
       "version_minor": 0
      },
      "text/plain": [
       "A Jupyter Widget"
      ]
     },
     "metadata": {},
     "output_type": "display_data"
    }
   ],
   "source": [
    "HTML('<img src=\"https://upload.wikimedia.org/wikipedia/commons/2/23/Drum_vibration_mode03.gif\">')"
   ]
  },
  {
   "cell_type": "code",
   "execution_count": 15,
   "metadata": {},
   "outputs": [
    {
     "data": {
      "application/vnd.jupyter.widget-view+json": {
       "model_id": "b3f141647d2145e8bee9ef63392715ad",
       "version_major": 2,
       "version_minor": 0
      },
      "text/plain": [
       "A Jupyter Widget"
      ]
     },
     "metadata": {},
     "output_type": "display_data"
    }
   ],
   "source": [
    "HTML('<img src=\"https://upload.wikimedia.org/wikipedia/commons/c/c4/Drum_vibration_mode13.gif\">')"
   ]
  },
  {
   "cell_type": "markdown",
   "metadata": {},
   "source": [
    "A more complex structure can have multiple different modes active at the same time. One mode was responsible for the up-and-down motion (and this was fine.)"
   ]
  },
  {
   "cell_type": "code",
   "execution_count": 16,
   "metadata": {},
   "outputs": [
    {
     "data": {
      "application/vnd.jupyter.widget-view+json": {
       "model_id": "bbf7c6acf9034aa596f580ece3e57eab",
       "version_major": 2,
       "version_minor": 0
      },
      "text/plain": [
       "A Jupyter Widget"
      ]
     },
     "metadata": {},
     "output_type": "display_data"
    }
   ],
   "source": [
    "HTML('<img src=\"https://study.com/cimages/multimages/16/standing_wave.gif\">')"
   ]
  },
  {
   "cell_type": "markdown",
   "metadata": {},
   "source": [
    "There was another mode that instead of looking like a sine wave or a cosine wave, looked something like this as time went on:"
   ]
  },
  {
   "cell_type": "code",
   "execution_count": 17,
   "metadata": {},
   "outputs": [
    {
     "data": {
      "text/plain": [
       "[<matplotlib.lines.Line2D at 0x11887dda0>]"
      ]
     },
     "execution_count": 17,
     "metadata": {},
     "output_type": "execute_result"
    },
    {
     "data": {
      "image/png": "[encoded data removed]",
      "text/plain": [
       "<matplotlib.figure.Figure at 0x1102a0198>"
      ]
     },
     "metadata": {},
     "output_type": "display_data"
    }
   ],
   "source": [
    "plt.figure()\n",
    "plt.plot(np.arange(0,10,0.1),np.exp(np.arange(0,10,0.1)))"
   ]
  },
  {
   "cell_type": "markdown",
   "metadata": {},
   "source": [
    "And it turns out that this mode (which is actually responsible for torsional motion if you look closely) was excited by gale-force winds and essentially a kind of periodic feedback cycle on the day of the disaster."
   ]
  },
  {
   "cell_type": "code",
   "execution_count": 18,
   "metadata": {},
   "outputs": [
    {
     "data": {
      "application/vnd.jupyter.widget-view+json": {
       "model_id": "1eaceb72ee6c4c29b3bab662d80189f8",
       "version_major": 2,
       "version_minor": 0
      },
      "text/plain": [
       "A Jupyter Widget"
      ]
     },
     "metadata": {},
     "output_type": "display_data"
    }
   ],
   "source": [
    "HTML('<img src=\"https://motherboard-images.vice.com/content-images/contentimage/27623/1450120875623513.gif\">')"
   ]
  },
  {
   "cell_type": "markdown",
   "metadata": {},
   "source": [
    "If you're interested, you can find a more complete explanation here: http://www.ketchum.org/billah/Billah-Scanlan.pdf \n",
    "\n",
    "Be warned, it turns out some of the nitty-gritty actually requires some advanced fluid dynamics, but it's also an interesting commentary on how traditional physics examples can turn out to be commonly misused in introductory physics texts."
   ]
  },
  {
   "cell_type": "markdown",
   "metadata": {},
   "source": [
    "If you want to access this notebook, it is available via Github at "
   ]
  }
 ],
 "metadata": {
  "kernelspec": {
   "display_name": "Python 3",
   "language": "python",
   "name": "python3"
  },
  "language_info": {
   "codemirror_mode": {
    "name": "ipython",
    "version": 3
   },
   "file_extension": ".py",
   "mimetype": "text/x-python",
   "name": "python",
   "nbconvert_exporter": "python",
   "pygments_lexer": "ipython3",
   "version": "3.6.3"
  }
 },
 "nbformat": 4,
 "nbformat_minor": 2
}
